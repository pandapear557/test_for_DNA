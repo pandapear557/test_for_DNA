{
  "nbformat": 4,
  "nbformat_minor": 0,
  "metadata": {
    "colab": {
      "name": "xgb.ipynb",
      "provenance": [],
      "collapsed_sections": [],
      "authorship_tag": "ABX9TyPS7AEO/pIBpo8yWZhq4H6B",
      "include_colab_link": true
    },
    "kernelspec": {
      "name": "python3",
      "display_name": "Python 3"
    },
    "language_info": {
      "name": "python"
    }
  },
  "cells": [
    {
      "cell_type": "markdown",
      "metadata": {
        "id": "view-in-github",
        "colab_type": "text"
      },
      "source": [
        "<a href=\"https://colab.research.google.com/github/pandapear557/test_for_DNA/blob/main/xgb.ipynb\" target=\"_parent\"><img src=\"https://colab.research.google.com/assets/colab-badge.svg\" alt=\"Open In Colab\"/></a>"
      ]
    },
    {
      "cell_type": "code",
      "source": [
        "x_train = train[['day', 'numbers', 'dayoff', 'work', 'outsidework', 'workfhome','Month','Date','bob','soup','main']]\n",
        "y_train = train['lunch_t'] \n",
        "x_test = test[['day', 'numbers', 'dayoff', 'work', 'outsidework', 'workfhome','Month','Date','bob','soup','main']]"
      ],
      "metadata": {
        "id": "HyrwFZ3iSjN2"
      },
      "execution_count": null,
      "outputs": []
    },
    {
      "cell_type": "code",
      "execution_count": null,
      "metadata": {
        "id": "51vNgPboSdDi"
      },
      "outputs": [],
      "source": [
        "from sklearn.model_selection import GridSearchCV\n",
        "import xgboost as xgb\n",
        "from xgboost import XGBRegressor\n",
        "\n",
        "param = {\n",
        "    'max_depth':[2,3,4],\n",
        "    'n_estimators':range(300,600,100), #  'n_estimators':range(600,700,50) 여기에 cv 10 (이거와 별반차이가 없다.)\n",
        "    'colsample_bytree':[0.5,0.7,1],\n",
        "    'colsample_bylevel':[0.5,0.7,1],\n",
        "}\n",
        "model = xgb.XGBRegressor()\n",
        "grid_search = GridSearchCV(estimator=model, param_grid=param, cv=10, \n",
        "                           scoring='neg_mean_squared_error',\n",
        "                           n_jobs=-1)\n",
        "\n",
        "grid_search.fit(x_train, y_train)\n",
        "print(grid_search.best_params_)\n",
        "{'colsample_bylevel': 0.5, 'colsample_bytree': 0.5, 'max_depth': 3, 'n_estimators': 600}\n",
        "XGBRegressor(base_score=0.5, booster='gbtree', colsample_bylevel=0.5,\n",
        "             colsample_bytree=0.7, gamma=0, learning_rate=0.1, max_delta_step=0,\n",
        "             max_depth=3, min_child_weight=1, missing=None, n_estimators=600,\n",
        "             n_jobs=1, nthread=None, objective='reg:linear', random_state=0,\n",
        "             reg_alpha=0, reg_lambda=1, scale_pos_weight=1, seed=None,\n",
        "             silent=True, subsample=1)"
      ]
    },
    {
      "cell_type": "code",
      "source": [
        "y_pred_dinner2 = grid_search.predict(x_test)"
      ],
      "metadata": {
        "id": "7kHxJHTGSy5J"
      },
      "execution_count": null,
      "outputs": []
    },
    {
      "cell_type": "code",
      "source": [
        "submit = pd.read_csv('sample_submission.csv')"
      ],
      "metadata": {
        "id": "0s_gp6bcS5mb"
      },
      "execution_count": null,
      "outputs": []
    },
    {
      "cell_type": "code",
      "source": [
        "submit['중식계'] = y_pred2\n"
      ],
      "metadata": {
        "id": "qz-_NR4JS9DB"
      },
      "execution_count": null,
      "outputs": []
    },
    {
      "cell_type": "code",
      "source": [
        "submit['석식계'] = y_pred_dinner2"
      ],
      "metadata": {
        "id": "wux6rfK4TE0E"
      },
      "execution_count": null,
      "outputs": []
    },
    {
      "cell_type": "code",
      "source": [
        "submit"
      ],
      "metadata": {
        "id": "L7hc2MzbTF7t"
      },
      "execution_count": null,
      "outputs": []
    },
    {
      "cell_type": "code",
      "source": [
        "submit.to_csv('final_w_new.csv', index=False)"
      ],
      "metadata": {
        "id": "g4J7DvShTIxt"
      },
      "execution_count": null,
      "outputs": []
    }
  ]
}