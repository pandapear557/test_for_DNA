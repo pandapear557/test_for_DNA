{
  "nbformat": 4,
  "nbformat_minor": 0,
  "metadata": {
    "colab": {
      "name": "최종 대회  36.88174의 사본의 사본",
      "provenance": [],
      "collapsed_sections": [],
      "include_colab_link": true
    },
    "kernelspec": {
      "name": "python2",
      "display_name": "Python 2"
    }
  },
  "cells": [
    {
      "cell_type": "markdown",
      "metadata": {
        "id": "view-in-github",
        "colab_type": "text"
      },
      "source": [
        "<a href=\"https://colab.research.google.com/github/pandapear557/test_for_DNA/blob/main/%EC%B5%9C%EC%A2%85_%EB%8C%80%ED%9A%8C_36_88174%EC%9D%98_%EC%82%AC%EB%B3%B8%EC%9D%98_%EC%82%AC%EB%B3%B8.ipynb\" target=\"_parent\"><img src=\"https://colab.research.google.com/assets/colab-badge.svg\" alt=\"Open In Colab\"/></a>"
      ]
    },
    {
      "cell_type": "code",
      "metadata": {
        "id": "ulPcOh9UZQe-",
        "outputId": "e98bc515-894e-41ba-8c3c-b8fd5359af9b",
        "colab": {
          "base_uri": "https://localhost:8080/"
        }
      },
      "source": [
        "from google.colab import drive\n",
        "drive.mount('/content/gdrive')"
      ],
      "execution_count": 1,
      "outputs": [
        {
          "output_type": "stream",
          "name": "stdout",
          "text": [
            "Mounted at /content/gdrive\n"
          ]
        }
      ]
    },
    {
      "cell_type": "code",
      "metadata": {
        "id": "CRlQ6qW8Z-or",
        "outputId": "c7cde21f-dde1-47ad-8623-c4db8c1a7229",
        "colab": {
          "base_uri": "https://localhost:8080/"
        }
      },
      "source": [
        "cd /content/gdrive/My Drive/4th comp"
      ],
      "execution_count": 2,
      "outputs": [
        {
          "output_type": "stream",
          "name": "stdout",
          "text": [
            "/content/gdrive/My Drive/4th comp\n"
          ]
        }
      ]
    },
    {
      "cell_type": "code",
      "metadata": {
        "id": "Ev1emVzIaMYs"
      },
      "source": [
        "import pandas as pd\n",
        "import warnings\n",
        "warnings.filterwarnings('ignore')\n",
        "import seaborn as sns\n",
        "import matplotlib.pyplot as plt\n",
        "plt.style.use('fivethirtyeight')\n",
        "import numpy as np"
      ],
      "execution_count": 3,
      "outputs": []
    },
    {
      "cell_type": "code",
      "metadata": {
        "id": "y8XMsHATaU96"
      },
      "source": [
        "train = pd.read_csv(\"train.csv\")\n",
        "test = pd.read_csv(\"test.csv\")"
      ],
      "execution_count": 4,
      "outputs": []
    },
    {
      "cell_type": "code",
      "metadata": {
        "id": "kGrkL5XyktFV"
      },
      "source": [
        "train['datetime']=pd.to_datetime(train['datetime'])\n",
        "test['datetime']=pd.to_datetime(test['datetime'])"
      ],
      "execution_count": 5,
      "outputs": []
    },
    {
      "cell_type": "code",
      "metadata": {
        "id": "PesDKk4-k6HY",
        "outputId": "0ad50447-983c-4c77-adcb-ad6dc396bf53",
        "colab": {
          "base_uri": "https://localhost:8080/"
        }
      },
      "source": [
        "train['datetime'].iloc[0]"
      ],
      "execution_count": 6,
      "outputs": [
        {
          "output_type": "execute_result",
          "data": {
            "text/plain": [
              "Timestamp('2017-04-01 00:00:00')"
            ]
          },
          "metadata": {},
          "execution_count": 6
        }
      ]
    },
    {
      "cell_type": "markdown",
      "metadata": {
        "id": "4bE_1AEpwAeI"
      },
      "source": [
        ""
      ]
    },
    {
      "cell_type": "code",
      "metadata": {
        "id": "oJia-JjExq2J"
      },
      "source": [
        "train['hour']= train['datetime'].dt.hour\n",
        "train['weekday']=train['datetime'].dt.weekday\n",
        "test['hour']= test['datetime'].dt.hour\n",
        "test['weekday']=test['datetime'].dt.weekday\n",
        "train['day']=train['datetime'].dt.day\n",
        "test['day']= test['datetime'].dt.day"
      ],
      "execution_count": 7,
      "outputs": []
    },
    {
      "cell_type": "code",
      "metadata": {
        "id": "6vNz3CsrxoZE",
        "outputId": "384851c6-b260-443c-dea9-c9e1e6836117",
        "colab": {
          "base_uri": "https://localhost:8080/",
          "height": 323
        }
      },
      "source": [
        "sns.barplot(x=\"precipitation\", y=\"count\",data=train)"
      ],
      "execution_count": null,
      "outputs": [
        {
          "output_type": "execute_result",
          "data": {
            "text/plain": [
              "<matplotlib.axes._subplots.AxesSubplot at 0x7fd55f4990d0>"
            ]
          },
          "metadata": {
            "tags": []
          },
          "execution_count": 11
        },
        {
          "output_type": "display_data",
          "data": {
            "image/png": "[encoded data removed]",
            "text/plain": [
              "<Figure size 432x288 with 1 Axes>"
            ]
          },
          "metadata": {
            "tags": []
          }
        }
      ]
    },
    {
      "cell_type": "markdown",
      "metadata": {
        "id": "zcYs-rCi0Jea"
      },
      "source": [
        "windspeed랑 count의 상관관계를 보여주는 시각화를 하고싶었는데.. "
      ]
    },
    {
      "cell_type": "code",
      "metadata": {
        "id": "PhNrTud1cLfC",
        "outputId": "17375cd3-3fca-4954-964c-27ec08ce91af",
        "colab": {
          "base_uri": "https://localhost:8080/",
          "height": 299
        }
      },
      "source": [
        "plt.scatter(train['total_polution'],train['count'])"
      ],
      "execution_count": null,
      "outputs": [
        {
          "output_type": "execute_result",
          "data": {
            "text/plain": [
              "<matplotlib.collections.PathCollection at 0x7f907bc12c90>"
            ]
          },
          "metadata": {
            "tags": []
          },
          "execution_count": 13
        },
        {
          "output_type": "display_data",
          "data": {
            "image/png": "[encoded data removed]",
            "text/plain": [
              "<Figure size 432x288 with 1 Axes>"
            ]
          },
          "metadata": {
            "tags": []
          }
        }
      ]
    },
    {
      "cell_type": "code",
      "metadata": {
        "id": "3Impx3LdyTFP",
        "outputId": "081e3467-6f73-499e-f3a6-cf75c71d7532",
        "colab": {
          "base_uri": "https://localhost:8080/",
          "height": 299
        }
      },
      "source": [
        "plt.scatter(train['windspeed'],train['count'])\n"
      ],
      "execution_count": null,
      "outputs": [
        {
          "output_type": "execute_result",
          "data": {
            "text/plain": [
              "<matplotlib.collections.PathCollection at 0x7fba7a133490>"
            ]
          },
          "metadata": {
            "tags": []
          },
          "execution_count": 10
        },
        {
          "output_type": "display_data",
          "data": {
            "image/png": "[encoded data removed]",
            "text/plain": [
              "<Figure size 432x288 with 1 Axes>"
            ]
          },
          "metadata": {
            "tags": []
          }
        }
      ]
    },
    {
      "cell_type": "code",
      "metadata": {
        "id": "tZdeTbmF0arB",
        "colab": {
          "base_uri": "https://localhost:8080/",
          "height": 322
        },
        "outputId": "67291da0-f961-4d4f-c174-47299bf35350"
      },
      "source": [
        "train.groupby('windspeed')['count'].mean().plot()"
      ],
      "execution_count": null,
      "outputs": [
        {
          "output_type": "execute_result",
          "data": {
            "text/plain": [
              "<matplotlib.axes._subplots.AxesSubplot at 0x7fa24ec0a750>"
            ]
          },
          "metadata": {
            "tags": []
          },
          "execution_count": 10
        },
        {
          "output_type": "display_data",
          "data": {
            "image/png": "[encoded data removed]",
            "text/plain": [
              "<Figure size 432x288 with 1 Axes>"
            ]
          },
          "metadata": {
            "tags": []
          }
        }
      ]
    },
    {
      "cell_type": "code",
      "metadata": {
        "id": "94egr6Fwx_Cb",
        "colab": {
          "base_uri": "https://localhost:8080/",
          "height": 206
        },
        "outputId": "b8110e35-eae9-470f-f829-1aa38851d0fe"
      },
      "source": [
        "train.head()"
      ],
      "execution_count": 11,
      "outputs": [
        {
          "output_type": "execute_result",
          "data": {
            "text/plain": [
              "   id            datetime  temperature  precipitation  windspeed  humidity  \\\n",
              "0   0 2017-04-01 00:00:00          4.9              0        1.5        81   \n",
              "1   1 2017-04-01 01:00:00          5.1              0        1.3        77   \n",
              "2   2 2017-04-01 02:00:00          5.7              0        0.8        74   \n",
              "3   3 2017-04-01 03:00:00          5.7              0        0.6        77   \n",
              "4   4 2017-04-01 04:00:00          5.5              0        0.5        78   \n",
              "\n",
              "   visibility  ozone  pm10  pm2.5  count  hour  weekday  day  \n",
              "0        2000 -1.000  -1.0   -1.0   39.0     0        5    1  \n",
              "1        2000  0.018  16.0   -1.0   34.0     1        5    1  \n",
              "2        2000  0.032  12.0   13.0   29.0     2        5    1  \n",
              "3        1960  0.028  14.0   18.0   21.0     3        5    1  \n",
              "4        2000  0.022  18.0   -1.0    6.0     4        5    1  "
            ],
            "text/html": [
              "\n",
              "  <div id=\"df-548211c9-f3ec-4a18-be28-e4123d412d76\">\n",
              "    <div class=\"colab-df-container\">\n",
              "      <div>\n",
              "<style scoped>\n",
              "    .dataframe tbody tr th:only-of-type {\n",
              "        vertical-align: middle;\n",
              "    }\n",
              "\n",
              "    .dataframe tbody tr th {\n",
              "        vertical-align: top;\n",
              "    }\n",
              "\n",
              "    .dataframe thead th {\n",
              "        text-align: right;\n",
              "    }\n",
              "</style>\n",
              "<table border=\"1\" class=\"dataframe\">\n",
              "  <thead>\n",
              "    <tr style=\"text-align: right;\">\n",
              "      <th></th>\n",
              "      <th>id</th>\n",
              "      <th>datetime</th>\n",
              "      <th>temperature</th>\n",
              "      <th>precipitation</th>\n",
              "      <th>windspeed</th>\n",
              "      <th>humidity</th>\n",
              "      <th>visibility</th>\n",
              "      <th>ozone</th>\n",
              "      <th>pm10</th>\n",
              "      <th>pm2.5</th>\n",
              "      <th>count</th>\n",
              "      <th>hour</th>\n",
              "      <th>weekday</th>\n",
              "      <th>day</th>\n",
              "    </tr>\n",
              "  </thead>\n",
              "  <tbody>\n",
              "    <tr>\n",
              "      <th>0</th>\n",
              "      <td>0</td>\n",
              "      <td>2017-04-01 00:00:00</td>\n",
              "      <td>4.9</td>\n",
              "      <td>0</td>\n",
              "      <td>1.5</td>\n",
              "      <td>81</td>\n",
              "      <td>2000</td>\n",
              "      <td>-1.000</td>\n",
              "      <td>-1.0</td>\n",
              "      <td>-1.0</td>\n",
              "      <td>39.0</td>\n",
              "      <td>0</td>\n",
              "      <td>5</td>\n",
              "      <td>1</td>\n",
              "    </tr>\n",
              "    <tr>\n",
              "      <th>1</th>\n",
              "      <td>1</td>\n",
              "      <td>2017-04-01 01:00:00</td>\n",
              "      <td>5.1</td>\n",
              "      <td>0</td>\n",
              "      <td>1.3</td>\n",
              "      <td>77</td>\n",
              "      <td>2000</td>\n",
              "      <td>0.018</td>\n",
              "      <td>16.0</td>\n",
              "      <td>-1.0</td>\n",
              "      <td>34.0</td>\n",
              "      <td>1</td>\n",
              "      <td>5</td>\n",
              "      <td>1</td>\n",
              "    </tr>\n",
              "    <tr>\n",
              "      <th>2</th>\n",
              "      <td>2</td>\n",
              "      <td>2017-04-01 02:00:00</td>\n",
              "      <td>5.7</td>\n",
              "      <td>0</td>\n",
              "      <td>0.8</td>\n",
              "      <td>74</td>\n",
              "      <td>2000</td>\n",
              "      <td>0.032</td>\n",
              "      <td>12.0</td>\n",
              "      <td>13.0</td>\n",
              "      <td>29.0</td>\n",
              "      <td>2</td>\n",
              "      <td>5</td>\n",
              "      <td>1</td>\n",
              "    </tr>\n",
              "    <tr>\n",
              "      <th>3</th>\n",
              "      <td>3</td>\n",
              "      <td>2017-04-01 03:00:00</td>\n",
              "      <td>5.7</td>\n",
              "      <td>0</td>\n",
              "      <td>0.6</td>\n",
              "      <td>77</td>\n",
              "      <td>1960</td>\n",
              "      <td>0.028</td>\n",
              "      <td>14.0</td>\n",
              "      <td>18.0</td>\n",
              "      <td>21.0</td>\n",
              "      <td>3</td>\n",
              "      <td>5</td>\n",
              "      <td>1</td>\n",
              "    </tr>\n",
              "    <tr>\n",
              "      <th>4</th>\n",
              "      <td>4</td>\n",
              "      <td>2017-04-01 04:00:00</td>\n",
              "      <td>5.5</td>\n",
              "      <td>0</td>\n",
              "      <td>0.5</td>\n",
              "      <td>78</td>\n",
              "      <td>2000</td>\n",
              "      <td>0.022</td>\n",
              "      <td>18.0</td>\n",
              "      <td>-1.0</td>\n",
              "      <td>6.0</td>\n",
              "      <td>4</td>\n",
              "      <td>5</td>\n",
              "      <td>1</td>\n",
              "    </tr>\n",
              "  </tbody>\n",
              "</table>\n",
              "</div>\n",
              "      <button class=\"colab-df-convert\" onclick=\"convertToInteractive('df-548211c9-f3ec-4a18-be28-e4123d412d76')\"\n",
              "              title=\"Convert this dataframe to an interactive table.\"\n",
              "              style=\"display:none;\">\n",
              "        \n",
              "  <svg xmlns=\"http://www.w3.org/2000/svg\" height=\"24px\"viewBox=\"0 0 24 24\"\n",
              "       width=\"24px\">\n",
              "    <path d=\"M0 0h24v24H0V0z\" fill=\"none\"/>\n",
              "    <path d=\"M18.56 5.44l.94 2.06.94-2.06 2.06-.94-2.06-.94-.94-2.06-.94 2.06-2.06.94zm-11 1L8.5 8.5l.94-2.06 2.06-.94-2.06-.94L8.5 2.5l-.94 2.06-2.06.94zm10 10l.94 2.06.94-2.06 2.06-.94-2.06-.94-.94-2.06-.94 2.06-2.06.94z\"/><path d=\"M17.41 7.96l-1.37-1.37c-.4-.4-.92-.59-1.43-.59-.52 0-1.04.2-1.43.59L10.3 9.45l-7.72 7.72c-.78.78-.78 2.05 0 2.83L4 21.41c.39.39.9.59 1.41.59.51 0 1.02-.2 1.41-.59l7.78-7.78 2.81-2.81c.8-.78.8-2.07 0-2.86zM5.41 20L4 18.59l7.72-7.72 1.47 1.35L5.41 20z\"/>\n",
              "  </svg>\n",
              "      </button>\n",
              "      \n",
              "  <style>\n",
              "    .colab-df-container {\n",
              "      display:flex;\n",
              "      flex-wrap:wrap;\n",
              "      gap: 12px;\n",
              "    }\n",
              "\n",
              "    .colab-df-convert {\n",
              "      background-color: #E8F0FE;\n",
              "      border: none;\n",
              "      border-radius: 50%;\n",
              "      cursor: pointer;\n",
              "      display: none;\n",
              "      fill: #1967D2;\n",
              "      height: 32px;\n",
              "      padding: 0 0 0 0;\n",
              "      width: 32px;\n",
              "    }\n",
              "\n",
              "    .colab-df-convert:hover {\n",
              "      background-color: #E2EBFA;\n",
              "      box-shadow: 0px 1px 2px rgba(60, 64, 67, 0.3), 0px 1px 3px 1px rgba(60, 64, 67, 0.15);\n",
              "      fill: #174EA6;\n",
              "    }\n",
              "\n",
              "    [theme=dark] .colab-df-convert {\n",
              "      background-color: #3B4455;\n",
              "      fill: #D2E3FC;\n",
              "    }\n",
              "\n",
              "    [theme=dark] .colab-df-convert:hover {\n",
              "      background-color: #434B5C;\n",
              "      box-shadow: 0px 1px 3px 1px rgba(0, 0, 0, 0.15);\n",
              "      filter: drop-shadow(0px 1px 2px rgba(0, 0, 0, 0.3));\n",
              "      fill: #FFFFFF;\n",
              "    }\n",
              "  </style>\n",
              "\n",
              "      <script>\n",
              "        const buttonEl =\n",
              "          document.querySelector('#df-548211c9-f3ec-4a18-be28-e4123d412d76 button.colab-df-convert');\n",
              "        buttonEl.style.display =\n",
              "          google.colab.kernel.accessAllowed ? 'block' : 'none';\n",
              "\n",
              "        async function convertToInteractive(key) {\n",
              "          const element = document.querySelector('#df-548211c9-f3ec-4a18-be28-e4123d412d76');\n",
              "          const dataTable =\n",
              "            await google.colab.kernel.invokeFunction('convertToInteractive',\n",
              "                                                     [key], {});\n",
              "          if (!dataTable) return;\n",
              "\n",
              "          const docLinkHtml = 'Like what you see? Visit the ' +\n",
              "            '<a target=\"_blank\" href=https://colab.research.google.com/notebooks/data_table.ipynb>data table notebook</a>'\n",
              "            + ' to learn more about interactive tables.';\n",
              "          element.innerHTML = '';\n",
              "          dataTable['output_type'] = 'display_data';\n",
              "          await google.colab.output.renderOutput(dataTable, element);\n",
              "          const docLink = document.createElement('div');\n",
              "          docLink.innerHTML = docLinkHtml;\n",
              "          element.appendChild(docLink);\n",
              "        }\n",
              "      </script>\n",
              "    </div>\n",
              "  </div>\n",
              "  "
            ]
          },
          "metadata": {},
          "execution_count": 11
        }
      ]
    },
    {
      "cell_type": "code",
      "metadata": {
        "id": "RvhZOCOY0uBs"
      },
      "source": [
        "train['ozone'] = train['ozone'].fillna(-1)\n",
        "train['pm10'] = train['pm10'].fillna(-1)\n",
        "train['pm2.5'] = train['pm2.5'].fillna(-1)\n",
        "train['windspeed'] =train['windspeed'].fillna(-1)\n",
        "train['count'] =train['count'].fillna(-1)\n",
        "\n",
        "test['ozone'] = test['ozone'].fillna(-1)\n",
        "test['pm10'] = test['pm10'].fillna( -1 )\n",
        "test['pm2.5'] = test['pm2.5'].fillna( -1 )\n",
        "test['windspeed'] =test['windspeed'].fillna(-1)"
      ],
      "execution_count": 12,
      "outputs": []
    },
    {
      "cell_type": "code",
      "metadata": {
        "id": "I8zS0Wg74Vrq"
      },
      "source": [
        "input_var=['temperature', 'precipitation', 'windspeed', 'humidity','visibility' ,\n",
        "           'ozone','pm10' ,'pm2.5' , 'weekday']\n",
        "\n",
        "target='count'"
      ],
      "execution_count": 13,
      "outputs": []
    },
    {
      "cell_type": "code",
      "metadata": {
        "id": "yhH7YBag2nnk",
        "outputId": "3efddfa0-58f3-4612-e236-2380e5f25e16",
        "colab": {
          "base_uri": "https://localhost:8080/",
          "height": 140
        }
      },
      "source": [
        "from sklearn.ensemble import RandomForestClassifier\n",
        "rf=RandomForestClassifier(max_depth=6,n_estimators=1000,max_features=10)\n",
        "rf.fit(train[input_var].fillna(0),train[target])"
      ],
      "execution_count": null,
      "outputs": [
        {
          "output_type": "execute_result",
          "data": {
            "text/plain": [
              "RandomForestClassifier(bootstrap=True, class_weight=None, criterion='gini',\n",
              "            max_depth=6, max_features=10, max_leaf_nodes=None,\n",
              "            min_impurity_decrease=0.0, min_impurity_split=None,\n",
              "            min_samples_leaf=1, min_samples_split=2,\n",
              "            min_weight_fraction_leaf=0.0, n_estimators=1000, n_jobs=None,\n",
              "            oob_score=False, random_state=None, verbose=0,\n",
              "            warm_start=False)"
            ]
          },
          "metadata": {
            "tags": []
          },
          "execution_count": 14
        }
      ]
    },
    {
      "cell_type": "code",
      "metadata": {
        "id": "c-lqAqb-6bF3"
      },
      "source": [
        "prediction_rf=rf.predict_proba(test[input_var].fillna(0))[:,1]\n",
        "import xgboost as xgb\n",
        "xgb_param={'objective':'reg:linear',\n",
        "          'metric':'rmse',\n",
        "          'max_depth':6,\n",
        "          'eta':0.02,\n",
        "          'min_child_samples':100\n",
        "          }"
      ],
      "execution_count": null,
      "outputs": []
    },
    {
      "cell_type": "code",
      "metadata": {
        "id": "Y59pE9AP6N2Z"
      },
      "source": [
        "from sklearn.model_selection import KFold\n",
        "folds =KFold(n_splits=5,shuffle=True)"
      ],
      "execution_count": null,
      "outputs": []
    },
    {
      "cell_type": "code",
      "metadata": {
        "id": "r4PAw8F96OGd"
      },
      "source": [
        "folds=KFold(n_splits=5,shuffle=True)"
      ],
      "execution_count": null,
      "outputs": []
    },
    {
      "cell_type": "code",
      "metadata": {
        "id": "6PxgdWnp6Mfo"
      },
      "source": [
        "oof_rf=np.zeros(len(train))\n",
        "\n",
        "prediction_rf=np.zeros(len(test))\n",
        "\n",
        "for fold_, (trn_idx,val_idx) in enumerate(folds.split(train[input_var].values,train[target].values)):\n",
        "  \n",
        "  rf.fit(train[input_var].iloc[trn_idx].fillna(0),train[target].iloc[trn_idx])\n",
        "  \n",
        "  oof_rf[val_idx]=rf.predict_proba(train[input_var].fillna(0).iloc[val_idx])[:,1]\n",
        "  \n",
        "  prediction_rf+=rf.predict_proba(test[input_var].fillna(0))[:,1]\n",
        "\n",
        "prediction_rf=prediction_rf/5"
      ],
      "execution_count": null,
      "outputs": []
    },
    {
      "cell_type": "code",
      "metadata": {
        "id": "9-0LpYDF6FBd"
      },
      "source": [
        "oof_xgb=np.zeros(len(train))\n",
        "\n",
        "prediction_xgb=np.zeros(len(test))\n",
        "\n",
        "for fold_, (trn_idx,val_idx) in enumerate(folds.split(train[input_var].values,train[target].values)):\n",
        "  trn_data=xgb.DMatrix(train[input_var].iloc[trn_idx],train[target].iloc[trn_idx])\n",
        "  val_data=xgb.DMatrix(train[input_var].iloc[val_idx],train[target].iloc[val_idx])\n",
        "  \n",
        "  num_tree=10000\n",
        "  \n",
        "  xgb_model=xgb.train(xgb_param,\n",
        "                     trn_data,\n",
        "                     num_tree,\n",
        "                     [(trn_data,'train'),(val_data,'valid')],verbose_eval=0,\n",
        "                     early_stopping_rounds=100)\n",
        "  \n",
        "  oof_xgb[val_idx]=xgb_model.predict(xgb.DMatrix(train[input_var].iloc[val_idx]),ntree_limit=xgb_model.best_ntree_limit)\n",
        "  \n",
        "  prediction_xgb+=xgb_model.predict(xgb.DMatrix(test[input_var]),ntree_limit=xgb_model.best_ntree_limit)\n",
        "  \n",
        "prediction_xgb=prediction_xgb/5"
      ],
      "execution_count": null,
      "outputs": []
    },
    {
      "cell_type": "code",
      "metadata": {
        "id": "YJILcAVZ5kJ5"
      },
      "source": [
        "train_super=pd.DataFrame({'oof_rf':oof_rf,'oof_xgb':oof_xgb,'count':train['count']})\n",
        "test_super=pd.DataFrame({'pred_rf':prediction_rf,'pred_xgb':prediction_xgb})"
      ],
      "execution_count": null,
      "outputs": []
    },
    {
      "cell_type": "code",
      "metadata": {
        "id": "wFFFa5Ix5emD",
        "outputId": "878c1a25-7ec5-4a46-fef1-9b8192488719",
        "colab": {
          "base_uri": "https://localhost:8080/",
          "height": 52
        }
      },
      "source": [
        "from sklearn.linear_model import LinearRegression\n",
        "lr=LinearRegression()\n",
        "lr.fit(train_super[['oof_rf','oof_xgb']],train_super['count'])"
      ],
      "execution_count": null,
      "outputs": [
        {
          "output_type": "execute_result",
          "data": {
            "text/plain": [
              "LinearRegression(copy_X=True, fit_intercept=True, n_jobs=None,\n",
              "         normalize=False)"
            ]
          },
          "metadata": {
            "tags": []
          },
          "execution_count": 50
        }
      ]
    },
    {
      "cell_type": "code",
      "metadata": {
        "id": "ZjeZx1_c4KWy"
      },
      "source": [
        "final_predictions=lr.predict(test_super[['pred_rf','pred_xgb']])"
      ],
      "execution_count": null,
      "outputs": []
    },
    {
      "cell_type": "code",
      "metadata": {
        "id": "6QtQoNSM4tQw"
      },
      "source": [
        "pd.DataFrame({'id':test['id'],'count':final_predictions}).to_csv(\"submission_34.csv\")"
      ],
      "execution_count": null,
      "outputs": []
    },
    {
      "cell_type": "code",
      "metadata": {
        "id": "xXSAbF1mcqRk"
      },
      "source": [
        ""
      ],
      "execution_count": null,
      "outputs": []
    }
  ]
}